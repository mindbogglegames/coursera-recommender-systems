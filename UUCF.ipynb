{
 "cells": [
  {
   "cell_type": "code",
   "execution_count": 3,
   "metadata": {
    "collapsed": true,
    "deletable": true,
    "editable": true
   },
   "outputs": [],
   "source": [
    "import requests\n",
    "import xml.etree.ElementTree as etree\n",
    "import pandas as pd\n",
    "import numpy as np\n",
    "import matplotlib.pyplot as plt\n",
    "import pickle as pl\n",
    "import time\n",
    "import seaborn as sns\n",
    "%matplotlib inline"
   ]
  },
  {
   "cell_type": "code",
   "execution_count": 4,
   "metadata": {
    "collapsed": false,
    "deletable": true,
    "editable": true
   },
   "outputs": [],
   "source": [
    "\n",
    "sheet1 = pd.read_excel('UUCF Assignment Spreadsheet.xls', sheetname=0)\n",
    "#sheet2 = pd.read_excel('UUCF Assignment Spreadsheet.xls', sheetname=0)\n",
    "#sheet1 = pd.read_excel('UUCF Assignment Spreadsheet.xls', sheetname=0)\n",
    "\n",
    "corr = sheet1.corr()"
   ]
  },
  {
   "cell_type": "code",
   "execution_count": 5,
   "metadata": {
    "collapsed": false,
    "deletable": true,
    "editable": true
   },
   "outputs": [],
   "source": [
    "#df89_top5 = corr.ix[:, '3867']\n",
    "\n",
    "means = sheet1.mean()\n",
    "df3867_top5_corr = corr[3867].sort_values(ascending=False)[1:6]\n",
    "df89_top5_corr = corr[89].sort_values(ascending=False)[1:6]"
   ]
  },
  {
   "cell_type": "code",
   "execution_count": 6,
   "metadata": {
    "collapsed": false,
    "deletable": true,
    "editable": true
   },
   "outputs": [
    {
     "data": {
      "text/plain": [
       "2492    0.476683\n",
       "3853    0.464110\n",
       "2486    0.438992\n",
       "3712    0.400275\n",
       "2288    0.379856\n",
       "Name: 3867, dtype: float64"
      ]
     },
     "execution_count": 6,
     "metadata": {},
     "output_type": "execute_result"
    }
   ],
   "source": [
    "#df3867_top5_corr\n",
    "df3867_top5_corr"
   ]
  },
  {
   "cell_type": "code",
   "execution_count": 8,
   "metadata": {
    "collapsed": false,
    "deletable": true,
    "editable": true
   },
   "outputs": [],
   "source": [
    "df3867_top5_ratings = pd.DataFrame(sheet1[df3867_top5_corr.axes[0][0:]])\n",
    "#df89_top5_ratings = pd.DataFrame(sheet1[df89_top5_corr.axes[0][0:]])\n",
    "#jas = df3867_top5_ratings[2492]\n",
    "df3867_corr = df3867_top5_ratings.notnull()*df3867_top5_corr\n",
    "#df89_corr = df89_top5_ratings.notnull()*df89_top5_corr\n",
    "#pd.DataFrame(df3867_top5_ratings[2492].notnull()*df3867_top5_corr[2492])\n",
    "#df89_top5_corr.axes[0][0:]"
   ]
  },
  {
   "cell_type": "code",
   "execution_count": 9,
   "metadata": {
    "collapsed": false,
    "deletable": true,
    "editable": true
   },
   "outputs": [],
   "source": [
    "#(df3867_top5_ratings*df3767_corr)\n",
    "#df3867_corr.sum(axis=1)\n",
    "df3867_top = df3867_top5_ratings*df3867_corr\n",
    "df3867_top_sum= df3867_top.sum(axis=1)\n",
    "#df3867_top_sum\n",
    "\n",
    "df3867_bottom_sum = df3867_corr.sum(axis=1)\n"
   ]
  },
  {
   "cell_type": "code",
   "execution_count": 14,
   "metadata": {
    "collapsed": false
   },
   "outputs": [
    {
     "data": {
      "text/plain": [
       "(100,)"
      ]
     },
     "execution_count": 14,
     "metadata": {},
     "output_type": "execute_result"
    }
   ],
   "source": [
    "df3867_bottom_sum.shape\n",
    "df3867_top_sum.shape"
   ]
  },
  {
   "cell_type": "code",
   "execution_count": 157,
   "metadata": {
    "collapsed": false,
    "deletable": true,
    "editable": true
   },
   "outputs": [],
   "source": [
    "df89_top = df89_top5_ratings*df89_corr\n",
    "df89_top_sum= df89_top.sum(axis=1)\n",
    "#df3867_top_sum\n",
    "\n",
    "df89_bottom_sum = df89_corr.sum(axis=1)"
   ]
  },
  {
   "cell_type": "code",
   "execution_count": 11,
   "metadata": {
    "collapsed": false,
    "deletable": true,
    "editable": true
   },
   "outputs": [
    {
     "data": {
      "text/plain": [
       "1891: Star Wars: Episode V - The Empire Strikes Back (1980)                                            4.760291\n",
       "155: The Dark Knight (2008)                                                                            4.551454\n",
       "122: The Lord of the Rings: The Return of the King (2003)                                              4.507637\n",
       "77: Memento (2000)                                                                                     4.472487\n",
       "121: The Lord of the Rings: The Two Towers (2002)                                                      4.400194\n",
       "603: The Matrix (1999)                                                                                 4.394379\n",
       "585: Monsters Inc. (2001)                                                                              4.330601\n",
       "807: Seven (a.k.a. Se7en) (1995)                                                                       4.319125\n",
       "120: The Lord of the Rings: The Fellowship of the Ring (2001)                                          4.289846\n",
       "238: The Godfather (1972)                                                                              4.240594\n",
       "85: Raiders of the Lost Ark (Indiana Jones and the Raiders of the Lost Ark) (1981)                     4.179766\n",
       "24: Kill Bill: Vol. 1 (2003)                                                                           4.172620\n",
       "629: The Usual Suspects (1995)                                                                         4.168955\n",
       "194: Amelie (2001)                                                                                     4.140865\n",
       "2501: The Bourne Identity (2002)                                                                       4.095490\n",
       "146: Crouching Tiger Hidden Dragon (Wo hu cang long) (2000)                                            4.095490\n",
       "63: Twelve Monkeys (a.k.a. 12 Monkeys) (1995)                                                          4.091132\n",
       "1572: Die Hard: With a Vengeance (1995)                                                                4.051916\n",
       "9806: The Incredibles (2004)                                                                           4.028247\n",
       "38: Eternal Sunshine of the Spotless Mind (2004)                                                       4.027814\n",
       "11: Star Wars: Episode IV - A New Hope (1977)                                                          4.020581\n",
       "424: Schindler's List (1993)                                                                           4.019592\n",
       "275: Fargo (1996)                                                                                      4.000000\n",
       "752: V for Vendetta (2006)                                                                             3.998604\n",
       "2502: The Bourne Supremacy (2004)                                                                      3.948620\n",
       "393: Kill Bill: Vol. 2 (2004)                                                                          3.901722\n",
       "272: Batman Begins (2005)                                                                              3.892064\n",
       "808: Shrek (2001)                                                                                      3.871727\n",
       "274: The Silence of the Lambs (1991)                                                                   3.818410\n",
       "14: American Beauty (1999)                                                                             3.804172\n",
       "                                                                                                         ...   \n",
       "141: Donnie Darko (2001)                                                                               3.027814\n",
       "9741: Unbreakable (2000)                                                                               3.000000\n",
       "786: Almost Famous (2000)                                                                              3.000000\n",
       "640: Catch Me If You Can (2002)                                                                        3.000000\n",
       "462: Erin Brockovich (2000)                                                                            3.000000\n",
       "107: Snatch (2000)                                                                                     3.000000\n",
       "1597: Meet the Parents (2000)                                                                          2.984990\n",
       "955: Mission: Impossible II (2000)                                                                     2.962571\n",
       "601: E.T. the Extra-Terrestrial (1982)                                                                 2.934611\n",
       "604: The Matrix Reloaded (2003)                                                                        2.813943\n",
       "557: Spider-Man (2002)                                                                                 2.729618\n",
       "414: Batman Forever (1995)                                                                             2.698547\n",
       "268: Batman (1989)                                                                                     2.623780\n",
       "602: Independence Day (a.k.a. ID4) (1996)                                                              2.572918\n",
       "2024: The Patriot (2000)                                                                               2.566337\n",
       "278: The Shawshank Redemption (1994)                                                                   2.540966\n",
       "641: Requiem for a Dream (2000)                                                                        2.500000\n",
       "243: High Fidelity (2000)                                                                              2.500000\n",
       "8587: The Lion King (1994)                                                                             2.322035\n",
       "812: Aladdin (1992)                                                                                    2.260291\n",
       "1894: Star Wars: Episode II - Attack of the Clones (2002)                                              2.219128\n",
       "671: Harry Potter and the Sorcerer's Stone (a.k.a. Harry Potter and the Philosopher's Stone) (2001)    2.061744\n",
       "788: Mrs. Doubtfire (1993)                                                                             2.003573\n",
       "1422: The Departed (2006)                                                                              2.000000\n",
       "134: O Brother Where Art Thou? (2000)                                                                  2.000000\n",
       "3049: Ace Ventura: Pet Detective (1994)                                                                1.814717\n",
       "8467: Dumb & Dumber (1994)                                                                             1.813320\n",
       "672: Harry Potter and the Chamber of Secrets (2002)                                                    1.801453\n",
       "9331: Clear and Present Danger (1994)                                                                  1.801453\n",
       "4327: Charlie's Angels (2000)                                                                          1.439808\n",
       "dtype: float64"
      ]
     },
     "execution_count": 11,
     "metadata": {},
     "output_type": "execute_result"
    }
   ],
   "source": [
    "predict3867 = df3867_top_sum/df3867_bottom_sum\n",
    "predict3867.sort_values(ascending=False)"
   ]
  },
  {
   "cell_type": "code",
   "execution_count": 165,
   "metadata": {
    "collapsed": false,
    "deletable": true,
    "editable": true
   },
   "outputs": [
    {
     "data": {
      "text/plain": [
       "238: The Godfather (1972)                                                                              4.894124\n",
       "278: The Shawshank Redemption (1994)                                                                   4.882194\n",
       "807: Seven (a.k.a. Se7en) (1995)                                                                       4.774093\n",
       "275: Fargo (1996)                                                                                      4.770944\n",
       "424: Schindler's List (1993)                                                                           4.729056\n",
       "122: The Lord of the Rings: The Return of the King (2003)                                              4.695962\n",
       "13: Forrest Gump (1994)                                                                                4.601470\n",
       "38: Eternal Sunshine of the Spotless Mind (2004)                                                       4.551396\n",
       "453: A Beautiful Mind (2001)                                                                           4.543231\n",
       "121: The Lord of the Rings: The Two Towers (2002)                                                      4.527800\n",
       "120: The Lord of the Rings: The Fellowship of the Ring (2001)                                          4.527800\n",
       "105: Back to the Future (1985)                                                                         4.520674\n",
       "550: Fight Club (1999)                                                                                 4.517565\n",
       "194: Amelie (2001)                                                                                     4.510375\n",
       "8587: The Lion King (1994)                                                                             4.505207\n",
       "680: Pulp Fiction (1994)                                                                               4.494441\n",
       "274: The Silence of the Lambs (1991)                                                                   4.476383\n",
       "603: The Matrix (1999)                                                                                 4.453258\n",
       "329: Jurassic Park (1993)                                                                              4.395617\n",
       "568: Apollo 13 (1995)                                                                                  4.383611\n",
       "85: Raiders of the Lost Ark (Indiana Jones and the Raiders of the Lost Ark) (1981)                     4.359637\n",
       "857: Saving Private Ryan (1998)                                                                        4.345938\n",
       "155: The Dark Knight (2008)                                                                            4.332654\n",
       "77: Memento (2000)                                                                                     4.329285\n",
       "12: Finding Nemo (2003)                                                                                4.267451\n",
       "1891: Star Wars: Episode V - The Empire Strikes Back (1980)                                            4.258783\n",
       "862: Toy Story (1995)                                                                                  4.255445\n",
       "1422: The Departed (2006)                                                                              4.250475\n",
       "8358: Cast Away (2000)                                                                                 4.229056\n",
       "161: Ocean's Eleven (2001)                                                                             4.219715\n",
       "                                                                                                         ...   \n",
       "2024: The Patriot (2000)                                                                               3.531329\n",
       "1572: Die Hard: With a Vengeance (1995)                                                                3.525210\n",
       "604: The Matrix Reloaded (2003)                                                                        3.518462\n",
       "602: Independence Day (a.k.a. ID4) (1996)                                                              3.511119\n",
       "9741: Unbreakable (2000)                                                                               3.500000\n",
       "2164: Stargate (1994)                                                                                  3.500000\n",
       "9331: Clear and Present Danger (1994)                                                                  3.500000\n",
       "114: Pretty Woman (1990)                                                                               3.500000\n",
       "63: Twelve Monkeys (a.k.a. 12 Monkeys) (1995)                                                          3.492586\n",
       "664: Twister (1996)                                                                                    3.490445\n",
       "187: Sin City (2005)                                                                                   3.488344\n",
       "581: Dances with Wolves (1990)                                                                         3.437341\n",
       "280: Terminator 2: Judgment Day (1991)                                                                 3.347981\n",
       "36955: True Lies (1994)                                                                                3.265665\n",
       "3049: Ace Ventura: Pet Detective (1994)                                                                3.225907\n",
       "8467: Dumb & Dumber (1994)                                                                             3.197648\n",
       "462: Erin Brockovich (2000)                                                                            3.187169\n",
       "558: Spider-Man 2 (2004)                                                                               3.165317\n",
       "557: Spider-Man (2002)                                                                                 3.148855\n",
       "671: Harry Potter and the Sorcerer's Stone (a.k.a. Harry Potter and the Philosopher's Stone) (2001)    3.130388\n",
       "1597: Meet the Parents (2000)                                                                          3.110830\n",
       "9802: The Rock (1996)                                                                                  3.031329\n",
       "1637: Speed (1994)                                                                                     3.016144\n",
       "672: Harry Potter and the Chamber of Secrets (2002)                                                    3.011777\n",
       "1894: Star Wars: Episode II - Attack of the Clones (2002)                                              2.972200\n",
       "414: Batman Forever (1995)                                                                             2.816344\n",
       "268: Batman (1989)                                                                                     2.500000\n",
       "4327: Charlie's Angels (2000)                                                                          2.476688\n",
       "7443: Chicken Run (2000)                                                                               2.448888\n",
       "1900: Traffic (2000)                                                                                   2.374337\n",
       "dtype: float64"
      ]
     },
     "execution_count": 165,
     "metadata": {},
     "output_type": "execute_result"
    }
   ],
   "source": [
    "#predict89 = df89_top_sum/df89_bottom_sum\n",
    "predict89.sort_values(ascending=False)"
   ]
  },
  {
   "cell_type": "code",
   "execution_count": 137,
   "metadata": {
    "collapsed": false,
    "deletable": true,
    "editable": true
   },
   "outputs": [],
   "source": [
    "#df3867_top5_ratings\n",
    "df3867_top5_means = means[df3867_top5_corr.axes[0][0:]]"
   ]
  },
  {
   "cell_type": "code",
   "execution_count": 161,
   "metadata": {
    "collapsed": true,
    "deletable": true,
    "editable": true
   },
   "outputs": [],
   "source": [
    "df89_top5_means = means[df89_top5_corr.axes[0][0:]]"
   ]
  },
  {
   "cell_type": "code",
   "execution_count": 148,
   "metadata": {
    "collapsed": false,
    "deletable": true,
    "editable": true
   },
   "outputs": [],
   "source": [
    "predict3867_norm = means[3867]+((df3867_top5_ratings-df3867_top5_means)*df3867_corr).sum(axis=1)/df3867_bottom_sum"
   ]
  },
  {
   "cell_type": "code",
   "execution_count": 162,
   "metadata": {
    "collapsed": true,
    "deletable": true,
    "editable": true
   },
   "outputs": [],
   "source": [
    "predict89_norm = means[89]+((df89_top5_ratings-df89_top5_means)*df89_corr).sum(axis=1)/df89_bottom_sum"
   ]
  },
  {
   "cell_type": "code",
   "execution_count": 166,
   "metadata": {
    "collapsed": false,
    "deletable": true,
    "editable": true
   },
   "outputs": [
    {
     "data": {
      "text/plain": [
       "1891: Star Wars: Episode V - The Empire Strikes Back (1980)                                            5.245509\n",
       "155: The Dark Knight (2008)                                                                            4.856770\n",
       "77: Memento (2000)                                                                                     4.777803\n",
       "275: Fargo (1996)                                                                                      4.771538\n",
       "807: Seven (a.k.a. Se7en) (1995)                                                                       4.655569\n",
       "122: The Lord of the Rings: The Return of the King (2003)                                              4.600989\n",
       "11: Star Wars: Episode IV - A New Hope (1977)                                                          4.505800\n",
       "121: The Lord of the Rings: The Two Towers (2002)                                                      4.493546\n",
       "603: The Matrix (1999)                                                                                 4.487731\n",
       "85: Raiders of the Lost Ark (Indiana Jones and the Raiders of the Lost Ark) (1981)                     4.485082\n",
       "1572: Die Hard: With a Vengeance (1995)                                                                4.480387\n",
       "24: Kill Bill: Vol. 1 (2003)                                                                           4.477936\n",
       "585: Monsters Inc. (2001)                                                                              4.460028\n",
       "194: Amelie (2001)                                                                                     4.449936\n",
       "63: Twelve Monkeys (a.k.a. 12 Monkeys) (1995)                                                          4.396449\n",
       "120: The Lord of the Rings: The Fellowship of the Ring (2001)                                          4.383198\n",
       "38: Eternal Sunshine of the Spotless Mind (2004)                                                       4.383088\n",
       "238: The Godfather (1972)                                                                              4.297644\n",
       "629: The Usual Suspects (1995)                                                                         4.226005\n",
       "1892: Star Wars: Episode VI - Return of the Jedi (1983)                                                4.224928\n",
       "2501: The Bourne Identity (2002)                                                                       4.224917\n",
       "146: Crouching Tiger Hidden Dragon (Wo hu cang long) (2000)                                            4.224917\n",
       "393: Kill Bill: Vol. 2 (2004)                                                                          4.207038\n",
       "272: Batman Begins (2005)                                                                              4.197380\n",
       "9806: The Incredibles (2004)                                                                           4.157673\n",
       "1900: Traffic (2000)                                                                                   4.126134\n",
       "2502: The Bourne Supremacy (2004)                                                                      4.078047\n",
       "424: Schindler's List (1993)                                                                           4.076642\n",
       "752: V for Vendetta (2006)                                                                             4.055654\n",
       "13: Forrest Gump (1994)                                                                                4.054794\n",
       "                                                                                                         ...   \n",
       "558: Spider-Man 2 (2004)                                                                               3.288035\n",
       "243: High Fidelity (2000)                                                                              3.271538\n",
       "641: Requiem for a Dream (2000)                                                                        3.271538\n",
       "453: A Beautiful Mind (2001)                                                                           3.255680\n",
       "36955: True Lies (1994)                                                                                3.248610\n",
       "664: Twister (1996)                                                                                    3.248220\n",
       "7443: Chicken Run (2000)                                                                               3.241696\n",
       "414: Batman Forever (1995)                                                                             3.183765\n",
       "854: The Mask (1994)                                                                                   3.178865\n",
       "557: Spider-Man (2002)                                                                                 3.158089\n",
       "1597: Meet the Parents (2000)                                                                          3.078401\n",
       "601: E.T. the Extra-Terrestrial (1982)                                                                 3.064038\n",
       "955: Mission: Impossible II (2000)                                                                     3.055923\n",
       "268: Batman (1989)                                                                                     3.052251\n",
       "604: The Matrix Reloaded (2003)                                                                        2.907295\n",
       "278: The Shawshank Redemption (1994)                                                                   2.850037\n",
       "8587: The Lion King (1994)                                                                             2.807254\n",
       "1422: The Departed (2006)                                                                              2.771538\n",
       "134: O Brother Where Art Thou? (2000)                                                                  2.771538\n",
       "812: Aladdin (1992)                                                                                    2.745509\n",
       "1894: Star Wars: Episode II - Attack of the Clones (2002)                                              2.704347\n",
       "2024: The Patriot (2000)                                                                               2.695763\n",
       "602: Independence Day (a.k.a. ID4) (1996)                                                              2.666270\n",
       "671: Harry Potter and the Sorcerer's Stone (a.k.a. Harry Potter and the Philosopher's Stone) (2001)    2.546963\n",
       "788: Mrs. Doubtfire (1993)                                                                             2.308889\n",
       "672: Harry Potter and the Chamber of Secrets (2002)                                                    2.286672\n",
       "9331: Clear and Present Danger (1994)                                                                  2.286672\n",
       "3049: Ace Ventura: Pet Detective (1994)                                                                1.944144\n",
       "8467: Dumb & Dumber (1994)                                                                             1.906731\n",
       "4327: Charlie's Angels (2000)                                                                          1.868278\n",
       "dtype: float64"
      ]
     },
     "execution_count": 166,
     "metadata": {},
     "output_type": "execute_result"
    }
   ],
   "source": [
    "predict3867_norm.sort_values(ascending=False)"
   ]
  },
  {
   "cell_type": "code",
   "execution_count": 167,
   "metadata": {
    "collapsed": false,
    "deletable": true,
    "editable": true
   },
   "outputs": [
    {
     "data": {
      "text/plain": [
       "238: The Godfather (1972)                                                                              5.322015\n",
       "278: The Shawshank Redemption (1994)                                                                   5.261424\n",
       "275: Fargo (1996)                                                                                      5.241111\n",
       "807: Seven (a.k.a. Se7en) (1995)                                                                       5.201984\n",
       "424: Schindler's List (1993)                                                                           5.199223\n",
       "122: The Lord of the Rings: The Return of the King (2003)                                              5.186846\n",
       "105: Back to the Future (1985)                                                                         5.073048\n",
       "550: Fight Club (1999)                                                                                 5.069939\n",
       "13: Forrest Gump (1994)                                                                                5.049074\n",
       "680: Pulp Fiction (1994)                                                                               5.046814\n",
       "120: The Lord of the Rings: The Fellowship of the Ring (2001)                                          5.018683\n",
       "121: The Lord of the Rings: The Two Towers (2002)                                                      5.018683\n",
       "77: Memento (2000)                                                                                     4.977640\n",
       "329: Jurassic Park (1993)                                                                              4.947991\n",
       "568: Apollo 13 (1995)                                                                                  4.935985\n",
       "8587: The Lion King (1994)                                                                             4.933098\n",
       "38: Eternal Sunshine of the Spotless Mind (2004)                                                       4.930626\n",
       "453: A Beautiful Mind (2001)                                                                           4.922460\n",
       "274: The Silence of the Lambs (1991)                                                                   4.904274\n",
       "603: The Matrix (1999)                                                                                 4.900863\n",
       "85: Raiders of the Lost Ark (Indiana Jones and the Raiders of the Lost Ark) (1981)                     4.850521\n",
       "12: Finding Nemo (2003)                                                                                4.819825\n",
       "1891: Star Wars: Episode V - The Empire Strikes Back (1980)                                            4.811156\n",
       "862: Toy Story (1995)                                                                                  4.807819\n",
       "194: Amelie (2001)                                                                                     4.807152\n",
       "155: The Dark Knight (2008)                                                                            4.780258\n",
       "857: Saving Private Ryan (1998)                                                                        4.773829\n",
       "745: The Sixth Sense (1999)                                                                            4.710006\n",
       "585: Monsters Inc. (2001)                                                                              4.706773\n",
       "8358: Cast Away (2000)                                                                                 4.699223\n",
       "                                                                                                         ...   \n",
       "36658: X2: X-Men United (2003)                                                                         4.136335\n",
       "1572: Die Hard: With a Vengeance (1995)                                                                4.129204\n",
       "602: Independence Day (a.k.a. ID4) (1996)                                                              4.063493\n",
       "809: Shrek 2 (2004)                                                                                    4.053129\n",
       "63: Twelve Monkeys (a.k.a. 12 Monkeys) (1995)                                                          4.051834\n",
       "664: Twister (1996)                                                                                    4.042819\n",
       "854: The Mask (1994)                                                                                   4.018338\n",
       "146: Crouching Tiger Hidden Dragon (Wo hu cang long) (2000)                                            3.998114\n",
       "187: Sin City (2005)                                                                                   3.979228\n",
       "36955: True Lies (1994)                                                                                3.974465\n",
       "114: Pretty Woman (1990)                                                                               3.970167\n",
       "604: The Matrix Reloaded (2003)                                                                        3.966067\n",
       "955: Mission: Impossible II (2000)                                                                     3.922460\n",
       "280: Terminator 2: Judgment Day (1991)                                                                 3.838865\n",
       "8467: Dumb & Dumber (1994)                                                                             3.750022\n",
       "9802: The Rock (1996)                                                                                  3.740130\n",
       "671: Harry Potter and the Sorcerer's Stone (a.k.a. Harry Potter and the Philosopher's Stone) (2001)    3.682762\n",
       "1597: Meet the Parents (2000)                                                                          3.663204\n",
       "462: Erin Brockovich (2000)                                                                            3.657335\n",
       "3049: Ace Ventura: Pet Detective (1994)                                                                3.653798\n",
       "557: Spider-Man (2002)                                                                                 3.576746\n",
       "672: Harry Potter and the Chamber of Secrets (2002)                                                    3.564151\n",
       "558: Spider-Man 2 (2004)                                                                               3.544547\n",
       "1637: Speed (1994)                                                                                     3.507027\n",
       "1894: Star Wars: Episode II - Attack of the Clones (2002)                                              3.463084\n",
       "414: Batman Forever (1995)                                                                             3.375592\n",
       "268: Batman (1989)                                                                                     3.183894\n",
       "4327: Charlie's Angels (2000)                                                                          2.967572\n",
       "7443: Chicken Run (2000)                                                                               2.939772\n",
       "1900: Traffic (2000)                                                                                   2.844504\n",
       "dtype: float64"
      ]
     },
     "execution_count": 167,
     "metadata": {},
     "output_type": "execute_result"
    }
   ],
   "source": [
    "predict89_norm.sort_values(ascending=False)"
   ]
  },
  {
   "cell_type": "code",
   "execution_count": null,
   "metadata": {
    "collapsed": true,
    "deletable": true,
    "editable": true
   },
   "outputs": [],
   "source": []
  }
 ],
 "metadata": {
  "kernelspec": {
   "display_name": "Python 3",
   "language": "python",
   "name": "python3"
  },
  "language_info": {
   "codemirror_mode": {
    "name": "ipython",
    "version": 3
   },
   "file_extension": ".py",
   "mimetype": "text/x-python",
   "name": "python",
   "nbconvert_exporter": "python",
   "pygments_lexer": "ipython3",
   "version": "3.6.0"
  }
 },
 "nbformat": 4,
 "nbformat_minor": 2
}
